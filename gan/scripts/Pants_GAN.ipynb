{
  "nbformat": 4,
  "nbformat_minor": 0,
  "metadata": {
    "colab": {
      "name": "Pants_GAN.ipynb",
      "provenance": [],
      "collapsed_sections": []
    },
    "kernelspec": {
      "name": "python3",
      "display_name": "Python 3"
    },
    "language_info": {
      "name": "python"
    },
    "accelerator": "GPU",
    "gpuClass": "standard"
  },
  "cells": [
    {
      "cell_type": "markdown",
      "source": [
        "## Loading up GDrive"
      ],
      "metadata": {
        "id": "YwVWHqz5vFTT"
      }
    },
    {
      "cell_type": "code",
      "execution_count": null,
      "metadata": {
        "colab": {
          "base_uri": "https://localhost:8080/"
        },
        "id": "BiZ2574qriXJ",
        "outputId": "aeb14ccc-9b15-40d3-dd0c-64c75b88d2b9"
      },
      "outputs": [
        {
          "output_type": "stream",
          "name": "stdout",
          "text": [
            "Mounted at /content/drive\n"
          ]
        }
      ],
      "source": [
        "from google.colab import drive\n",
        "drive.mount(\n",
        "    \"/content/drive\",\n",
        "    force_remount = True\n",
        ")"
      ]
    },
    {
      "cell_type": "markdown",
      "source": [
        "## Install all dependencies"
      ],
      "metadata": {
        "id": "ZHZtnzSmve6T"
      }
    },
    {
      "cell_type": "code",
      "source": [
        "!pip install torch==1.8.1 torchvision==0.9.1\n",
        "!git clone https://github.com/NVlabs/stylegan2-ada-pytorch.git\n",
        "!pip install ninja"
      ],
      "metadata": {
        "colab": {
          "base_uri": "https://localhost:8080/"
        },
        "id": "JiQCElYfvQy7",
        "outputId": "aaf19779-b503-4534-9299-8d9e638720ec"
      },
      "execution_count": null,
      "outputs": [
        {
          "output_type": "stream",
          "name": "stdout",
          "text": [
            "Looking in indexes: https://pypi.org/simple, https://us-python.pkg.dev/colab-wheels/public/simple/\n",
            "Collecting torch==1.8.1\n",
            "  Downloading torch-1.8.1-cp37-cp37m-manylinux1_x86_64.whl (804.1 MB)\n",
            "\u001b[K     |████████████████████████████████| 804.1 MB 2.5 kB/s \n",
            "\u001b[?25hCollecting torchvision==0.9.1\n",
            "  Downloading torchvision-0.9.1-cp37-cp37m-manylinux1_x86_64.whl (17.4 MB)\n",
            "\u001b[K     |████████████████████████████████| 17.4 MB 623 kB/s \n",
            "\u001b[?25hRequirement already satisfied: typing-extensions in /usr/local/lib/python3.7/dist-packages (from torch==1.8.1) (4.1.1)\n",
            "Requirement already satisfied: numpy in /usr/local/lib/python3.7/dist-packages (from torch==1.8.1) (1.21.6)\n",
            "Requirement already satisfied: pillow>=4.1.1 in /usr/local/lib/python3.7/dist-packages (from torchvision==0.9.1) (7.1.2)\n",
            "Installing collected packages: torch, torchvision\n",
            "  Attempting uninstall: torch\n",
            "    Found existing installation: torch 1.12.0+cu113\n",
            "    Uninstalling torch-1.12.0+cu113:\n",
            "      Successfully uninstalled torch-1.12.0+cu113\n",
            "  Attempting uninstall: torchvision\n",
            "    Found existing installation: torchvision 0.13.0+cu113\n",
            "    Uninstalling torchvision-0.13.0+cu113:\n",
            "      Successfully uninstalled torchvision-0.13.0+cu113\n",
            "\u001b[31mERROR: pip's dependency resolver does not currently take into account all the packages that are installed. This behaviour is the source of the following dependency conflicts.\n",
            "torchtext 0.13.0 requires torch==1.12.0, but you have torch 1.8.1 which is incompatible.\n",
            "torchaudio 0.12.0+cu113 requires torch==1.12.0, but you have torch 1.8.1 which is incompatible.\u001b[0m\n",
            "Successfully installed torch-1.8.1 torchvision-0.9.1\n",
            "Cloning into 'stylegan2-ada-pytorch'...\n",
            "remote: Enumerating objects: 128, done.\u001b[K\n",
            "remote: Total 128 (delta 0), reused 0 (delta 0), pack-reused 128\u001b[K\n",
            "Receiving objects: 100% (128/128), 1.12 MiB | 21.66 MiB/s, done.\n",
            "Resolving deltas: 100% (57/57), done.\n",
            "Looking in indexes: https://pypi.org/simple, https://us-python.pkg.dev/colab-wheels/public/simple/\n",
            "Collecting ninja\n",
            "  Downloading ninja-1.10.2.3-py2.py3-none-manylinux_2_5_x86_64.manylinux1_x86_64.whl (108 kB)\n",
            "\u001b[K     |████████████████████████████████| 108 kB 13.1 MB/s \n",
            "\u001b[?25hInstalling collected packages: ninja\n",
            "Successfully installed ninja-1.10.2.3\n"
          ]
        }
      ]
    },
    {
      "cell_type": "markdown",
      "source": [
        "## Convert images to the required file format"
      ],
      "metadata": {
        "id": "A_quYA5GwyqG"
      }
    },
    {
      "cell_type": "code",
      "source": [
        "!mkdir /content/drive/MyDrive/formatted-pants-128-samples\n",
        "!mkdir /content/drive/MyDrive/pants-generated-images/"
      ],
      "metadata": {
        "id": "R6SnDqfbw67t"
      },
      "execution_count": null,
      "outputs": []
    },
    {
      "cell_type": "code",
      "source": [
        "convert_script = \"python /content/stylegan2-ada-pytorch/dataset_tool.py \"\\\n",
        "  \"--source /content/drive/MyDrive/resized-pants-128-samples \"\\\n",
        "  \"--dest /content/drive/MyDrive/formatted-pants-128-samples\"\n",
        "\n",
        "!{convert_script}"
      ],
      "metadata": {
        "colab": {
          "base_uri": "https://localhost:8080/"
        },
        "id": "12mnPgJlxGM8",
        "outputId": "7fa606b8-d116-4fab-96fb-0a49bbf4aec4"
      },
      "execution_count": null,
      "outputs": [
        {
          "output_type": "stream",
          "name": "stdout",
          "text": [
            "100% 128/128 [00:01<00:00, 123.79it/s]\n"
          ]
        }
      ]
    },
    {
      "cell_type": "code",
      "source": [
        "import glob\n",
        "from PIL import Image\n",
        "\n",
        "class ImageChecker:\n",
        "  def __init__(self, folder_path, extension = \".png\", colour_format = \"RGB\") -> None:\n",
        "    self.extension = extension\n",
        "    self.base_path = folder_path\n",
        "    self.colour_format = colour_format\n",
        "    self.files = glob.glob(self.base_path + \"/*\" + self.extension)\n",
        "  \n",
        "  def check_colour_format(self) -> bool:\n",
        "    for f in self.files:\n",
        "      img = Image.open(f)\n",
        "      if img.mode != self.colour_format:\n",
        "        return False\n",
        "      img = None\n",
        "    return True\n",
        "\n",
        "  def check_size(self) -> bool:\n",
        "    size_list = []\n",
        "    for f in self.files:\n",
        "      img = Image.open(f)\n",
        "      size_list.append(img.size)\n",
        "    return len(size_list) != 0 and len(set(size_list)) == 1 \n",
        "    \n",
        "  def get_files(self) -> list: \n",
        "    return self.files"
      ],
      "metadata": {
        "id": "ilIu9yGtxWes"
      },
      "execution_count": null,
      "outputs": []
    },
    {
      "cell_type": "code",
      "source": [
        "checker = ImageChecker(folder_path=\"/content/drive/MyDrive/formatted-pants-128-samples/00000\")\n",
        "print(len(checker.get_files()))\n",
        "print(checker.check_colour_format())\n",
        "print(checker.check_size())"
      ],
      "metadata": {
        "colab": {
          "base_uri": "https://localhost:8080/"
        },
        "id": "eAKTz_PA0RL5",
        "outputId": "9238ae6e-f895-4197-ab45-3d47f0c91eb3"
      },
      "execution_count": null,
      "outputs": [
        {
          "output_type": "stream",
          "name": "stdout",
          "text": [
            "128\n",
            "True\n",
            "True\n"
          ]
        }
      ]
    },
    {
      "cell_type": "markdown",
      "source": [
        "## Train the GAN"
      ],
      "metadata": {
        "id": "YNE7uBsF1u-q"
      }
    },
    {
      "cell_type": "code",
      "source": [
        "!pip install -U tb-nightly\n",
        "!pip install -U future"
      ],
      "metadata": {
        "colab": {
          "base_uri": "https://localhost:8080/"
        },
        "id": "njiuz5Hj4tiV",
        "outputId": "8aca3846-1902-419a-8c55-c8c82cb173b1"
      },
      "execution_count": null,
      "outputs": [
        {
          "output_type": "stream",
          "name": "stdout",
          "text": [
            "Looking in indexes: https://pypi.org/simple, https://us-python.pkg.dev/colab-wheels/public/simple/\n",
            "Requirement already satisfied: tb-nightly in /usr/local/lib/python3.7/dist-packages (2.10.0a20220716)\n",
            "Requirement already satisfied: setuptools>=41.0.0 in /usr/local/lib/python3.7/dist-packages (from tb-nightly) (57.4.0)\n",
            "Requirement already satisfied: tensorboard-plugin-wit>=1.6.0 in /usr/local/lib/python3.7/dist-packages (from tb-nightly) (1.8.1)\n",
            "Requirement already satisfied: requests<3,>=2.21.0 in /usr/local/lib/python3.7/dist-packages (from tb-nightly) (2.23.0)\n",
            "Requirement already satisfied: wheel>=0.26 in /usr/local/lib/python3.7/dist-packages (from tb-nightly) (0.37.1)\n",
            "Requirement already satisfied: google-auth<3,>=1.6.3 in /usr/local/lib/python3.7/dist-packages (from tb-nightly) (1.35.0)\n",
            "Requirement already satisfied: google-auth-oauthlib<0.5,>=0.4.1 in /usr/local/lib/python3.7/dist-packages (from tb-nightly) (0.4.6)\n",
            "Requirement already satisfied: absl-py>=0.4 in /usr/local/lib/python3.7/dist-packages (from tb-nightly) (1.1.0)\n",
            "Requirement already satisfied: grpcio>=1.24.3 in /usr/local/lib/python3.7/dist-packages (from tb-nightly) (1.47.0)\n",
            "Requirement already satisfied: tensorboard-data-server<0.7.0,>=0.6.0 in /usr/local/lib/python3.7/dist-packages (from tb-nightly) (0.6.1)\n",
            "Requirement already satisfied: werkzeug>=1.0.1 in /usr/local/lib/python3.7/dist-packages (from tb-nightly) (1.0.1)\n",
            "Requirement already satisfied: markdown>=2.6.8 in /usr/local/lib/python3.7/dist-packages (from tb-nightly) (3.3.7)\n",
            "Requirement already satisfied: numpy>=1.12.0 in /usr/local/lib/python3.7/dist-packages (from tb-nightly) (1.21.6)\n",
            "Requirement already satisfied: protobuf<3.20,>=3.9.2 in /usr/local/lib/python3.7/dist-packages (from tb-nightly) (3.17.3)\n",
            "Requirement already satisfied: cachetools<5.0,>=2.0.0 in /usr/local/lib/python3.7/dist-packages (from google-auth<3,>=1.6.3->tb-nightly) (4.2.4)\n",
            "Requirement already satisfied: six>=1.9.0 in /usr/local/lib/python3.7/dist-packages (from google-auth<3,>=1.6.3->tb-nightly) (1.15.0)\n",
            "Requirement already satisfied: rsa<5,>=3.1.4 in /usr/local/lib/python3.7/dist-packages (from google-auth<3,>=1.6.3->tb-nightly) (4.8)\n",
            "Requirement already satisfied: pyasn1-modules>=0.2.1 in /usr/local/lib/python3.7/dist-packages (from google-auth<3,>=1.6.3->tb-nightly) (0.2.8)\n",
            "Requirement already satisfied: requests-oauthlib>=0.7.0 in /usr/local/lib/python3.7/dist-packages (from google-auth-oauthlib<0.5,>=0.4.1->tb-nightly) (1.3.1)\n",
            "Requirement already satisfied: importlib-metadata>=4.4 in /usr/local/lib/python3.7/dist-packages (from markdown>=2.6.8->tb-nightly) (4.12.0)\n",
            "Requirement already satisfied: typing-extensions>=3.6.4 in /usr/local/lib/python3.7/dist-packages (from importlib-metadata>=4.4->markdown>=2.6.8->tb-nightly) (4.1.1)\n",
            "Requirement already satisfied: zipp>=0.5 in /usr/local/lib/python3.7/dist-packages (from importlib-metadata>=4.4->markdown>=2.6.8->tb-nightly) (3.8.0)\n",
            "Requirement already satisfied: pyasn1<0.5.0,>=0.4.6 in /usr/local/lib/python3.7/dist-packages (from pyasn1-modules>=0.2.1->google-auth<3,>=1.6.3->tb-nightly) (0.4.8)\n",
            "Requirement already satisfied: chardet<4,>=3.0.2 in /usr/local/lib/python3.7/dist-packages (from requests<3,>=2.21.0->tb-nightly) (3.0.4)\n",
            "Requirement already satisfied: urllib3!=1.25.0,!=1.25.1,<1.26,>=1.21.1 in /usr/local/lib/python3.7/dist-packages (from requests<3,>=2.21.0->tb-nightly) (1.24.3)\n",
            "Requirement already satisfied: certifi>=2017.4.17 in /usr/local/lib/python3.7/dist-packages (from requests<3,>=2.21.0->tb-nightly) (2022.6.15)\n",
            "Requirement already satisfied: idna<3,>=2.5 in /usr/local/lib/python3.7/dist-packages (from requests<3,>=2.21.0->tb-nightly) (2.10)\n",
            "Requirement already satisfied: oauthlib>=3.0.0 in /usr/local/lib/python3.7/dist-packages (from requests-oauthlib>=0.7.0->google-auth-oauthlib<0.5,>=0.4.1->tb-nightly) (3.2.0)\n",
            "Looking in indexes: https://pypi.org/simple, https://us-python.pkg.dev/colab-wheels/public/simple/\n",
            "Requirement already satisfied: future in /usr/local/lib/python3.7/dist-packages (0.18.2)\n"
          ]
        }
      ]
    },
    {
      "cell_type": "code",
      "source": [
        "%tensorflow_version 1.x"
      ],
      "metadata": {
        "id": "udF-obw06VfM"
      },
      "execution_count": null,
      "outputs": []
    },
    {
      "cell_type": "code",
      "source": [
        "from tqdm.notebook import tqdm\n",
        "\n",
        "train_script = f\"/usr/bin/python3 /content/stylegan2-ada-pytorch/train.py \"\\\n",
        "  f\"--snap 2 --outdir /content/drive/MyDrive/pants-generated-images/ --data /content/drive/MyDrive/formatted-pants-128-samples/\"\n",
        "\n",
        "!{train_script}\n"
      ],
      "metadata": {
        "colab": {
          "base_uri": "https://localhost:8080/"
        },
        "id": "Yu3jW_kD1ejV",
        "outputId": "c659fcea-991d-472d-e48a-2e773df9a836"
      },
      "execution_count": null,
      "outputs": [
        {
          "output_type": "stream",
          "name": "stdout",
          "text": [
            "\n",
            "Training options:\n",
            "{\n",
            "  \"num_gpus\": 1,\n",
            "  \"image_snapshot_ticks\": 2,\n",
            "  \"network_snapshot_ticks\": 2,\n",
            "  \"metrics\": [\n",
            "    \"fid50k_full\"\n",
            "  ],\n",
            "  \"random_seed\": 0,\n",
            "  \"training_set_kwargs\": {\n",
            "    \"class_name\": \"training.dataset.ImageFolderDataset\",\n",
            "    \"path\": \"/content/drive/MyDrive/formatted-pants-128-samples/\",\n",
            "    \"use_labels\": false,\n",
            "    \"max_size\": 128,\n",
            "    \"xflip\": false,\n",
            "    \"resolution\": 128\n",
            "  },\n",
            "  \"data_loader_kwargs\": {\n",
            "    \"pin_memory\": true,\n",
            "    \"num_workers\": 3,\n",
            "    \"prefetch_factor\": 2\n",
            "  },\n",
            "  \"G_kwargs\": {\n",
            "    \"class_name\": \"training.networks.Generator\",\n",
            "    \"z_dim\": 512,\n",
            "    \"w_dim\": 512,\n",
            "    \"mapping_kwargs\": {\n",
            "      \"num_layers\": 2\n",
            "    },\n",
            "    \"synthesis_kwargs\": {\n",
            "      \"channel_base\": 16384,\n",
            "      \"channel_max\": 512,\n",
            "      \"num_fp16_res\": 4,\n",
            "      \"conv_clamp\": 256\n",
            "    }\n",
            "  },\n",
            "  \"D_kwargs\": {\n",
            "    \"class_name\": \"training.networks.Discriminator\",\n",
            "    \"block_kwargs\": {},\n",
            "    \"mapping_kwargs\": {},\n",
            "    \"epilogue_kwargs\": {\n",
            "      \"mbstd_group_size\": 4\n",
            "    },\n",
            "    \"channel_base\": 16384,\n",
            "    \"channel_max\": 512,\n",
            "    \"num_fp16_res\": 4,\n",
            "    \"conv_clamp\": 256\n",
            "  },\n",
            "  \"G_opt_kwargs\": {\n",
            "    \"class_name\": \"torch.optim.Adam\",\n",
            "    \"lr\": 0.0025,\n",
            "    \"betas\": [\n",
            "      0,\n",
            "      0.99\n",
            "    ],\n",
            "    \"eps\": 1e-08\n",
            "  },\n",
            "  \"D_opt_kwargs\": {\n",
            "    \"class_name\": \"torch.optim.Adam\",\n",
            "    \"lr\": 0.0025,\n",
            "    \"betas\": [\n",
            "      0,\n",
            "      0.99\n",
            "    ],\n",
            "    \"eps\": 1e-08\n",
            "  },\n",
            "  \"loss_kwargs\": {\n",
            "    \"class_name\": \"training.loss.StyleGAN2Loss\",\n",
            "    \"r1_gamma\": 0.1024\n",
            "  },\n",
            "  \"total_kimg\": 25000,\n",
            "  \"batch_size\": 32,\n",
            "  \"batch_gpu\": 32,\n",
            "  \"ema_kimg\": 10.0,\n",
            "  \"ema_rampup\": 0.05,\n",
            "  \"ada_target\": 0.6,\n",
            "  \"augment_kwargs\": {\n",
            "    \"class_name\": \"training.augment.AugmentPipe\",\n",
            "    \"xflip\": 1,\n",
            "    \"rotate90\": 1,\n",
            "    \"xint\": 1,\n",
            "    \"scale\": 1,\n",
            "    \"rotate\": 1,\n",
            "    \"aniso\": 1,\n",
            "    \"xfrac\": 1,\n",
            "    \"brightness\": 1,\n",
            "    \"contrast\": 1,\n",
            "    \"lumaflip\": 1,\n",
            "    \"hue\": 1,\n",
            "    \"saturation\": 1\n",
            "  },\n",
            "  \"run_dir\": \"/content/drive/MyDrive/pants-generated-images/00001--auto1\"\n",
            "}\n",
            "\n",
            "Output directory:   /content/drive/MyDrive/pants-generated-images/00001--auto1\n",
            "Training data:      /content/drive/MyDrive/formatted-pants-128-samples/\n",
            "Training duration:  25000 kimg\n",
            "Number of GPUs:     1\n",
            "Number of images:   128\n",
            "Image resolution:   128\n",
            "Conditional model:  False\n",
            "Dataset x-flips:    False\n",
            "\n",
            "Creating output directory...\n",
            "Launching processes...\n",
            "Loading training set...\n",
            "/usr/local/lib/python3.7/dist-packages/torch/utils/data/dataloader.py:477: UserWarning: This DataLoader will create 3 worker processes in total. Our suggested max number of worker in current system is 2, which is smaller than what this DataLoader is going to create. Please be aware that excessive worker creation might get DataLoader running slow or even freeze, lower the worker number to avoid potential slowness/freeze if necessary.\n",
            "  cpuset_checked))\n",
            "\n",
            "Num images:  128\n",
            "Image shape: [3, 128, 128]\n",
            "Label shape: [0]\n",
            "\n",
            "Constructing networks...\n",
            "Setting up PyTorch plugin \"bias_act_plugin\"... Done.\n",
            "Setting up PyTorch plugin \"upfirdn2d_plugin\"... Done.\n",
            "\n",
            "Generator             Parameters  Buffers  Output shape         Datatype\n",
            "---                   ---         ---      ---                  ---     \n",
            "mapping.fc0           262656      -        [32, 512]            float32 \n",
            "mapping.fc1           262656      -        [32, 512]            float32 \n",
            "mapping               -           512      [32, 12, 512]        float32 \n",
            "synthesis.b4.conv1    2622465     32       [32, 512, 4, 4]      float32 \n",
            "synthesis.b4.torgb    264195      -        [32, 3, 4, 4]        float32 \n",
            "synthesis.b4:0        8192        16       [32, 512, 4, 4]      float32 \n",
            "synthesis.b4:1        -           -        [32, 512, 4, 4]      float32 \n",
            "synthesis.b8.conv0    2622465     80       [32, 512, 8, 8]      float32 \n",
            "synthesis.b8.conv1    2622465     80       [32, 512, 8, 8]      float32 \n",
            "synthesis.b8.torgb    264195      -        [32, 3, 8, 8]        float32 \n",
            "synthesis.b8:0        -           16       [32, 512, 8, 8]      float32 \n",
            "synthesis.b8:1        -           -        [32, 512, 8, 8]      float32 \n",
            "synthesis.b16.conv0   2622465     272      [32, 512, 16, 16]    float16 \n",
            "synthesis.b16.conv1   2622465     272      [32, 512, 16, 16]    float16 \n",
            "synthesis.b16.torgb   264195      -        [32, 3, 16, 16]      float16 \n",
            "synthesis.b16:0       -           16       [32, 512, 16, 16]    float16 \n",
            "synthesis.b16:1       -           -        [32, 512, 16, 16]    float32 \n",
            "synthesis.b32.conv0   2622465     1040     [32, 512, 32, 32]    float16 \n",
            "synthesis.b32.conv1   2622465     1040     [32, 512, 32, 32]    float16 \n",
            "synthesis.b32.torgb   264195      -        [32, 3, 32, 32]      float16 \n",
            "synthesis.b32:0       -           16       [32, 512, 32, 32]    float16 \n",
            "synthesis.b32:1       -           -        [32, 512, 32, 32]    float32 \n",
            "synthesis.b64.conv0   1442561     4112     [32, 256, 64, 64]    float16 \n",
            "synthesis.b64.conv1   721409      4112     [32, 256, 64, 64]    float16 \n",
            "synthesis.b64.torgb   132099      -        [32, 3, 64, 64]      float16 \n",
            "synthesis.b64:0       -           16       [32, 256, 64, 64]    float16 \n",
            "synthesis.b64:1       -           -        [32, 256, 64, 64]    float32 \n",
            "synthesis.b128.conv0  426369      16400    [32, 128, 128, 128]  float16 \n",
            "synthesis.b128.conv1  213249      16400    [32, 128, 128, 128]  float16 \n",
            "synthesis.b128.torgb  66051       -        [32, 3, 128, 128]    float16 \n",
            "synthesis.b128:0      -           16       [32, 128, 128, 128]  float16 \n",
            "synthesis.b128:1      -           -        [32, 128, 128, 128]  float32 \n",
            "---                   ---         ---      ---                  ---     \n",
            "Total                 22949277    44448    -                    -       \n",
            "\n",
            "\n",
            "Discriminator  Parameters  Buffers  Output shape         Datatype\n",
            "---            ---         ---      ---                  ---     \n",
            "b128.fromrgb   512         16       [32, 128, 128, 128]  float16 \n",
            "b128.skip      32768       16       [32, 256, 64, 64]    float16 \n",
            "b128.conv0     147584      16       [32, 128, 128, 128]  float16 \n",
            "b128.conv1     295168      16       [32, 256, 64, 64]    float16 \n",
            "b128           -           16       [32, 256, 64, 64]    float16 \n",
            "b64.skip       131072      16       [32, 512, 32, 32]    float16 \n",
            "b64.conv0      590080      16       [32, 256, 64, 64]    float16 \n",
            "b64.conv1      1180160     16       [32, 512, 32, 32]    float16 \n",
            "b64            -           16       [32, 512, 32, 32]    float16 \n",
            "b32.skip       262144      16       [32, 512, 16, 16]    float16 \n",
            "b32.conv0      2359808     16       [32, 512, 32, 32]    float16 \n",
            "b32.conv1      2359808     16       [32, 512, 16, 16]    float16 \n",
            "b32            -           16       [32, 512, 16, 16]    float16 \n",
            "b16.skip       262144      16       [32, 512, 8, 8]      float16 \n",
            "b16.conv0      2359808     16       [32, 512, 16, 16]    float16 \n",
            "b16.conv1      2359808     16       [32, 512, 8, 8]      float16 \n",
            "b16            -           16       [32, 512, 8, 8]      float16 \n",
            "b8.skip        262144      16       [32, 512, 4, 4]      float32 \n",
            "b8.conv0       2359808     16       [32, 512, 8, 8]      float32 \n",
            "b8.conv1       2359808     16       [32, 512, 4, 4]      float32 \n",
            "b8             -           16       [32, 512, 4, 4]      float32 \n",
            "b4.mbstd       -           -        [32, 513, 4, 4]      float32 \n",
            "b4.conv        2364416     16       [32, 512, 4, 4]      float32 \n",
            "b4.fc          4194816     -        [32, 512]            float32 \n",
            "b4.out         513         -        [32, 1]              float32 \n",
            "---            ---         ---      ---                  ---     \n",
            "Total          23882369    352      -                    -       \n",
            "\n",
            "Setting up augmentation...\n",
            "Distributing across 1 GPUs...\n",
            "Setting up training phases...\n",
            "Exporting sample images...\n",
            "Initializing logs...\n",
            "Training for 25000 kimg...\n",
            "\n",
            "tick 0     kimg 0.0      time 41s          sec/tick 7.7     sec/kimg 239.87  maintenance 33.8   cpumem 4.13   gpumem 11.42  augment 0.000\n",
            "Evaluating metrics...\n",
            "/usr/local/lib/python3.7/dist-packages/torch/utils/data/dataloader.py:477: UserWarning: This DataLoader will create 3 worker processes in total. Our suggested max number of worker in current system is 2, which is smaller than what this DataLoader is going to create. Please be aware that excessive worker creation might get DataLoader running slow or even freeze, lower the worker number to avoid potential slowness/freeze if necessary.\n",
            "  cpuset_checked))\n",
            "{\"results\": {\"fid50k_full\": 334.962745343406}, \"metric\": \"fid50k_full\", \"total_time\": 526.933956861496, \"total_time_str\": \"8m 47s\", \"num_gpus\": 1, \"snapshot_pkl\": \"network-snapshot-000000.pkl\", \"timestamp\": 1657990741.3913403}\n",
            "tick 1     kimg 4.0      time 12m 34s      sec/tick 173.7   sec/kimg 43.42   maintenance 538.7  cpumem 4.23   gpumem 6.20   augment 0.005\n",
            "tick 2     kimg 8.0      time 15m 28s      sec/tick 173.6   sec/kimg 43.39   maintenance 0.2    cpumem 4.23   gpumem 6.20   augment 0.011\n",
            "Evaluating metrics...\n",
            "{\"results\": {\"fid50k_full\": 372.8902492676692}, \"metric\": \"fid50k_full\", \"total_time\": 518.8055851459503, \"total_time_str\": \"8m 39s\", \"num_gpus\": 1, \"snapshot_pkl\": \"network-snapshot-000008.pkl\", \"timestamp\": 1657991617.915171}\n",
            "tick 3     kimg 12.0     time 27m 10s      sec/tick 173.8   sec/kimg 43.44   maintenance 529.1  cpumem 4.42   gpumem 6.20   augment 0.019\n",
            "tick 4     kimg 16.0     time 30m 05s      sec/tick 174.1   sec/kimg 43.53   maintenance 0.0    cpumem 4.42   gpumem 6.20   augment 0.025\n",
            "Evaluating metrics...\n",
            "{\"results\": {\"fid50k_full\": 384.59986594649354}, \"metric\": \"fid50k_full\", \"total_time\": 519.0832254886627, \"total_time_str\": \"8m 39s\", \"num_gpus\": 1, \"snapshot_pkl\": \"network-snapshot-000016.pkl\", \"timestamp\": 1657992495.6458123}\n",
            "tick 5     kimg 20.0     time 41m 49s      sec/tick 174.2   sec/kimg 43.54   maintenance 529.8  cpumem 4.42   gpumem 6.20   augment 0.032\n",
            "tick 6     kimg 24.0     time 44m 42s      sec/tick 173.5   sec/kimg 43.37   maintenance 0.2    cpumem 4.42   gpumem 6.20   augment 0.037\n",
            "Evaluating metrics...\n",
            "{\"results\": {\"fid50k_full\": 423.36624453768945}, \"metric\": \"fid50k_full\", \"total_time\": 517.0180149078369, \"total_time_str\": \"8m 37s\", \"num_gpus\": 1, \"snapshot_pkl\": \"network-snapshot-000024.pkl\", \"timestamp\": 1657993371.0452435}\n",
            "tick 7     kimg 28.0     time 56m 25s      sec/tick 175.3   sec/kimg 43.83   maintenance 527.6  cpumem 4.42   gpumem 6.20   augment 0.043\n",
            "tick 8     kimg 32.0     time 59m 20s      sec/tick 175.2   sec/kimg 43.81   maintenance 0.0    cpumem 4.42   gpumem 6.20   augment 0.050\n",
            "Evaluating metrics...\n",
            "{\"results\": {\"fid50k_full\": 427.79064327947907}, \"metric\": \"fid50k_full\", \"total_time\": 519.2343924045563, \"total_time_str\": \"8m 39s\", \"num_gpus\": 1, \"snapshot_pkl\": \"network-snapshot-000032.pkl\", \"timestamp\": 1657994254.3297026}\n",
            "tick 9     kimg 36.0     time 1h 11m 08s   sec/tick 174.9   sec/kimg 43.73   maintenance 532.7  cpumem 4.41   gpumem 6.20   augment 0.058\n",
            "tick 10    kimg 40.0     time 1h 14m 03s   sec/tick 174.8   sec/kimg 43.69   maintenance 0.2    cpumem 4.41   gpumem 6.20   augment 0.066\n",
            "Evaluating metrics...\n",
            "{\"results\": {\"fid50k_full\": 368.8441498695585}, \"metric\": \"fid50k_full\", \"total_time\": 519.1136577129364, \"total_time_str\": \"8m 39s\", \"num_gpus\": 1, \"snapshot_pkl\": \"network-snapshot-000040.pkl\", \"timestamp\": 1657995137.8408976}\n",
            "tick 11    kimg 44.0     time 1h 25m 52s   sec/tick 175.0   sec/kimg 43.76   maintenance 533.6  cpumem 4.41   gpumem 6.20   augment 0.073\n",
            "tick 12    kimg 48.0     time 1h 28m 47s   sec/tick 175.6   sec/kimg 43.89   maintenance 0.0    cpumem 4.41   gpumem 6.20   augment 0.079\n",
            "Evaluating metrics...\n",
            "{\"results\": {\"fid50k_full\": 321.25994650518396}, \"metric\": \"fid50k_full\", \"total_time\": 517.7567844390869, \"total_time_str\": \"8m 38s\", \"num_gpus\": 1, \"snapshot_pkl\": \"network-snapshot-000048.pkl\", \"timestamp\": 1657996018.4832773}\n",
            "tick 13    kimg 52.0     time 1h 40m 33s   sec/tick 175.6   sec/kimg 43.90   maintenance 530.0  cpumem 4.41   gpumem 6.20   augment 0.086\n",
            "tick 14    kimg 56.0     time 1h 43m 28s   sec/tick 175.0   sec/kimg 43.74   maintenance 0.2    cpumem 4.41   gpumem 6.20   augment 0.093\n",
            "Evaluating metrics...\n",
            "{\"results\": {\"fid50k_full\": 297.80165546462285}, \"metric\": \"fid50k_full\", \"total_time\": 517.7534444332123, \"total_time_str\": \"8m 38s\", \"num_gpus\": 1, \"snapshot_pkl\": \"network-snapshot-000056.pkl\", \"timestamp\": 1657996898.1211164}\n",
            "tick 15    kimg 60.0     time 1h 55m 13s   sec/tick 175.9   sec/kimg 43.97   maintenance 528.9  cpumem 4.31   gpumem 6.20   augment 0.100\n",
            "tick 16    kimg 64.0     time 1h 58m 09s   sec/tick 176.0   sec/kimg 44.00   maintenance 0.0    cpumem 4.31   gpumem 6.20   augment 0.105\n",
            "Evaluating metrics...\n",
            "{\"results\": {\"fid50k_full\": 284.0136076861673}, \"metric\": \"fid50k_full\", \"total_time\": 518.931390285492, \"total_time_str\": \"8m 39s\", \"num_gpus\": 1, \"snapshot_pkl\": \"network-snapshot-000064.pkl\", \"timestamp\": 1657997780.7956636}\n",
            "tick 17    kimg 68.0     time 2h 09m 55s   sec/tick 175.5   sec/kimg 43.87   maintenance 530.8  cpumem 4.34   gpumem 6.20   augment 0.112\n",
            "tick 18    kimg 72.0     time 2h 12m 51s   sec/tick 175.7   sec/kimg 43.92   maintenance 0.2    cpumem 4.34   gpumem 6.20   augment 0.118\n",
            "Evaluating metrics...\n",
            "{\"results\": {\"fid50k_full\": 289.875187824477}, \"metric\": \"fid50k_full\", \"total_time\": 519.9582102298737, \"total_time_str\": \"8m 40s\", \"num_gpus\": 1, \"snapshot_pkl\": \"network-snapshot-000072.pkl\", \"timestamp\": 1657998665.2858047}\n",
            "tick 19    kimg 76.0     time 2h 24m 40s   sec/tick 176.2   sec/kimg 44.05   maintenance 533.1  cpumem 4.40   gpumem 6.20   augment 0.124\n",
            "tick 20    kimg 80.0     time 2h 27m 36s   sec/tick 175.8   sec/kimg 43.96   maintenance 0.0    cpumem 4.40   gpumem 6.20   augment 0.131\n",
            "Evaluating metrics...\n",
            "{\"results\": {\"fid50k_full\": 304.6029613080208}, \"metric\": \"fid50k_full\", \"total_time\": 519.7129275798798, \"total_time_str\": \"8m 40s\", \"num_gpus\": 1, \"snapshot_pkl\": \"network-snapshot-000080.pkl\", \"timestamp\": 1657999548.4627254}\n",
            "tick 21    kimg 84.0     time 2h 39m 23s   sec/tick 176.3   sec/kimg 44.07   maintenance 531.2  cpumem 4.40   gpumem 6.20   augment 0.137\n",
            "tick 22    kimg 88.0     time 2h 42m 19s   sec/tick 175.2   sec/kimg 43.80   maintenance 0.2    cpumem 4.40   gpumem 6.20   augment 0.145\n",
            "Evaluating metrics...\n",
            "{\"results\": {\"fid50k_full\": 317.30873554869123}, \"metric\": \"fid50k_full\", \"total_time\": 517.2781264781952, \"total_time_str\": \"8m 37s\", \"num_gpus\": 1, \"snapshot_pkl\": \"network-snapshot-000088.pkl\", \"timestamp\": 1658000428.602235}\n",
            "tick 23    kimg 92.0     time 2h 54m 04s   sec/tick 176.6   sec/kimg 44.15   maintenance 528.4  cpumem 4.40   gpumem 6.20   augment 0.149\n",
            "tick 24    kimg 96.0     time 2h 57m 01s   sec/tick 176.6   sec/kimg 44.14   maintenance 0.0    cpumem 4.40   gpumem 6.20   augment 0.156\n",
            "Evaluating metrics...\n",
            "{\"results\": {\"fid50k_full\": 311.01379147367646}, \"metric\": \"fid50k_full\", \"total_time\": 521.2677476406097, \"total_time_str\": \"8m 41s\", \"num_gpus\": 1, \"snapshot_pkl\": \"network-snapshot-000096.pkl\", \"timestamp\": 1658001314.9286482}\n",
            "tick 25    kimg 100.0    time 3h 08m 50s   sec/tick 176.6   sec/kimg 44.15   maintenance 533.1  cpumem 4.40   gpumem 6.20   augment 0.160\n",
            "tick 26    kimg 104.0    time 3h 11m 46s   sec/tick 175.7   sec/kimg 43.92   maintenance 0.2    cpumem 4.40   gpumem 6.20   augment 0.166\n",
            "Evaluating metrics...\n",
            "{\"results\": {\"fid50k_full\": 295.9659387148968}, \"metric\": \"fid50k_full\", \"total_time\": 524.1380715370178, \"total_time_str\": \"8m 44s\", \"num_gpus\": 1, \"snapshot_pkl\": \"network-snapshot-000104.pkl\", \"timestamp\": 1658002203.4142318}\n",
            "tick 27    kimg 108.0    time 3h 23m 39s   sec/tick 176.5   sec/kimg 44.13   maintenance 536.0  cpumem 4.40   gpumem 6.20   augment 0.170\n",
            "tick 28    kimg 112.0    time 3h 26m 35s   sec/tick 176.6   sec/kimg 44.15   maintenance 0.0    cpumem 4.40   gpumem 6.20   augment 0.176\n",
            "Evaluating metrics...\n",
            "{\"results\": {\"fid50k_full\": 285.3790966361626}, \"metric\": \"fid50k_full\", \"total_time\": 519.5202095508575, \"total_time_str\": \"8m 40s\", \"num_gpus\": 1, \"snapshot_pkl\": \"network-snapshot-000112.pkl\", \"timestamp\": 1658003087.9509263}\n",
            "tick 29    kimg 116.0    time 3h 38m 23s   sec/tick 176.7   sec/kimg 44.19   maintenance 531.4  cpumem 4.33   gpumem 6.20   augment 0.178\n",
            "tick 30    kimg 120.0    time 3h 41m 20s   sec/tick 175.9   sec/kimg 43.97   maintenance 0.2    cpumem 4.33   gpumem 6.20   augment 0.179\n",
            "Evaluating metrics...\n",
            "{\"results\": {\"fid50k_full\": 267.34263770896257}, \"metric\": \"fid50k_full\", \"total_time\": 523.1501815319061, \"total_time_str\": \"8m 43s\", \"num_gpus\": 1, \"snapshot_pkl\": \"network-snapshot-000120.pkl\", \"timestamp\": 1658003976.2203}\n",
            "tick 31    kimg 124.0    time 3h 53m 10s   sec/tick 175.2   sec/kimg 43.81   maintenance 535.4  cpumem 4.40   gpumem 6.20   augment 0.184\n",
            "tick 32    kimg 128.0    time 3h 56m 07s   sec/tick 177.1   sec/kimg 44.27   maintenance 0.0    cpumem 4.40   gpumem 6.20   augment 0.186\n",
            "Evaluating metrics...\n",
            "{\"results\": {\"fid50k_full\": 248.42952428049497}, \"metric\": \"fid50k_full\", \"total_time\": 522.733078956604, \"total_time_str\": \"8m 43s\", \"num_gpus\": 1, \"snapshot_pkl\": \"network-snapshot-000128.pkl\", \"timestamp\": 1658004864.502068}\n",
            "tick 33    kimg 132.0    time 4h 07m 58s   sec/tick 174.4   sec/kimg 43.61   maintenance 536.0  cpumem 4.32   gpumem 6.20   augment 0.189\n",
            "tick 34    kimg 136.0    time 4h 10m 54s   sec/tick 176.0   sec/kimg 44.00   maintenance 0.2    cpumem 4.32   gpumem 6.20   augment 0.190\n",
            "Evaluating metrics...\n",
            "{\"results\": {\"fid50k_full\": 239.3375983947384}, \"metric\": \"fid50k_full\", \"total_time\": 519.6496033668518, \"total_time_str\": \"8m 40s\", \"num_gpus\": 1, \"snapshot_pkl\": \"network-snapshot-000136.pkl\", \"timestamp\": 1658005747.137413}\n",
            "tick 35    kimg 140.0    time 4h 22m 43s   sec/tick 176.8   sec/kimg 44.20   maintenance 532.0  cpumem 4.40   gpumem 6.20   augment 0.193\n",
            "tick 36    kimg 144.0    time 4h 25m 39s   sec/tick 176.8   sec/kimg 44.20   maintenance 0.0    cpumem 4.40   gpumem 6.20   augment 0.191\n",
            "Evaluating metrics...\n",
            "{\"results\": {\"fid50k_full\": 235.30793212396645}, \"metric\": \"fid50k_full\", \"total_time\": 520.1307563781738, \"total_time_str\": \"8m 40s\", \"num_gpus\": 1, \"snapshot_pkl\": \"network-snapshot-000144.pkl\", \"timestamp\": 1658006633.17546}\n",
            "tick 37    kimg 148.0    time 4h 37m 29s   sec/tick 176.7   sec/kimg 44.17   maintenance 532.4  cpumem 4.40   gpumem 6.20   augment 0.193\n",
            "tick 38    kimg 152.0    time 4h 40m 25s   sec/tick 175.8   sec/kimg 43.94   maintenance 0.2    cpumem 4.40   gpumem 6.20   augment 0.193\n",
            "Evaluating metrics...\n",
            "{\"results\": {\"fid50k_full\": 236.38182275932456}, \"metric\": \"fid50k_full\", \"total_time\": 520.7782006263733, \"total_time_str\": \"8m 41s\", \"num_gpus\": 1, \"snapshot_pkl\": \"network-snapshot-000152.pkl\", \"timestamp\": 1658007519.0993235}\n",
            "tick 39    kimg 156.0    time 4h 52m 13s   sec/tick 175.0   sec/kimg 43.75   maintenance 533.3  cpumem 4.40   gpumem 6.20   augment 0.192\n",
            "tick 40    kimg 160.0    time 4h 55m 10s   sec/tick 176.7   sec/kimg 44.17   maintenance 0.0    cpumem 4.40   gpumem 6.20   augment 0.192\n",
            "Evaluating metrics...\n",
            "{\"results\": {\"fid50k_full\": 239.44257251337467}, \"metric\": \"fid50k_full\", \"total_time\": 521.2695870399475, \"total_time_str\": \"8m 41s\", \"num_gpus\": 1, \"snapshot_pkl\": \"network-snapshot-000160.pkl\", \"timestamp\": 1658008405.7068334}\n",
            "tick 41    kimg 164.0    time 5h 07m 01s   sec/tick 176.8   sec/kimg 44.20   maintenance 534.9  cpumem 4.40   gpumem 6.20   augment 0.194\n",
            "tick 42    kimg 168.0    time 5h 09m 58s   sec/tick 176.3   sec/kimg 44.08   maintenance 0.2    cpumem 4.40   gpumem 6.20   augment 0.196\n",
            "Evaluating metrics...\n",
            "{\"results\": {\"fid50k_full\": 221.88471911806351}, \"metric\": \"fid50k_full\", \"total_time\": 522.0186796188354, \"total_time_str\": \"8m 42s\", \"num_gpus\": 1, \"snapshot_pkl\": \"network-snapshot-000168.pkl\", \"timestamp\": 1658009295.862561}\n",
            "tick 43    kimg 172.0    time 5h 21m 51s   sec/tick 176.5   sec/kimg 44.13   maintenance 536.8  cpumem 4.40   gpumem 6.20   augment 0.197\n",
            "tick 44    kimg 176.0    time 5h 24m 48s   sec/tick 177.0   sec/kimg 44.25   maintenance 0.0    cpumem 4.40   gpumem 6.20   augment 0.195\n",
            "Evaluating metrics...\n",
            "{\"results\": {\"fid50k_full\": 220.36252643357295}, \"metric\": \"fid50k_full\", \"total_time\": 518.9841187000275, \"total_time_str\": \"8m 39s\", \"num_gpus\": 1, \"snapshot_pkl\": \"network-snapshot-000176.pkl\", \"timestamp\": 1658010183.7575665}\n",
            "tick 45    kimg 180.0    time 5h 36m 39s   sec/tick 176.8   sec/kimg 44.21   maintenance 534.4  cpumem 4.40   gpumem 6.20   augment 0.195\n",
            "tick 46    kimg 184.0    time 5h 39m 36s   sec/tick 176.4   sec/kimg 44.10   maintenance 0.2    cpumem 4.40   gpumem 6.20   augment 0.198\n",
            "Evaluating metrics...\n",
            "{\"results\": {\"fid50k_full\": 214.4095215134487}, \"metric\": \"fid50k_full\", \"total_time\": 517.110209941864, \"total_time_str\": \"8m 37s\", \"num_gpus\": 1, \"snapshot_pkl\": \"network-snapshot-000184.pkl\", \"timestamp\": 1658011069.2894623}\n",
            "tick 47    kimg 188.0    time 5h 51m 25s   sec/tick 176.6   sec/kimg 44.16   maintenance 532.1  cpumem 4.38   gpumem 6.20   augment 0.198\n",
            "tick 48    kimg 192.0    time 5h 54m 22s   sec/tick 176.9   sec/kimg 44.22   maintenance 0.0    cpumem 4.38   gpumem 6.20   augment 0.196\n",
            "Evaluating metrics...\n"
          ]
        }
      ]
    },
    {
      "cell_type": "code",
      "source": [
        "!mkdir /content/drive/MyDrive/output-pants\n",
        "s = \"/usr/bin/python3 /content/stylegan2-ada-pytorch/generate.py --outdir=/content/drive/MyDrive/output-pants --trunc=1 --seeds=85,265,297,849 \\\n",
        "    --network=/content/drive/MyDrive/pants-generated-images/00001--auto1/network-snapshot-000192.pkl\"\n",
        "\n",
        "!{s}"
      ],
      "metadata": {
        "id": "6VH7itld2_3U",
        "colab": {
          "base_uri": "https://localhost:8080/"
        },
        "outputId": "54dc12c1-dd3f-4b7e-c2fb-ae366193fa98"
      },
      "execution_count": null,
      "outputs": [
        {
          "output_type": "stream",
          "name": "stdout",
          "text": [
            "mkdir: cannot create directory ‘/content/drive/MyDrive/output-pants’: File exists\n",
            "Loading networks from \"/content/drive/MyDrive/pants-generated-images/00001--auto1/network-snapshot-000192.pkl\"...\n",
            "No CUDA runtime is found, using CUDA_HOME='/usr/local/cuda'\n",
            "Traceback (most recent call last):\n",
            "  File \"/content/stylegan2-ada-pytorch/generate.py\", line 127, in <module>\n",
            "    generate_images() # pylint: disable=no-value-for-parameter\n",
            "  File \"/usr/local/lib/python3.7/dist-packages/click/core.py\", line 829, in __call__\n",
            "    return self.main(*args, **kwargs)\n",
            "  File \"/usr/local/lib/python3.7/dist-packages/click/core.py\", line 782, in main\n",
            "    rv = self.invoke(ctx)\n",
            "  File \"/usr/local/lib/python3.7/dist-packages/click/core.py\", line 1066, in invoke\n",
            "    return ctx.invoke(self.callback, **ctx.params)\n",
            "  File \"/usr/local/lib/python3.7/dist-packages/click/core.py\", line 610, in invoke\n",
            "    return callback(*args, **kwargs)\n",
            "  File \"/usr/local/lib/python3.7/dist-packages/click/decorators.py\", line 21, in new_func\n",
            "    return f(get_current_context(), *args, **kwargs)\n",
            "  File \"/content/stylegan2-ada-pytorch/generate.py\", line 84, in generate_images\n",
            "    G = legacy.load_network_pkl(f)['G_ema'].to(device) # type: ignore\n",
            "  File \"/usr/local/lib/python3.7/dist-packages/torch/nn/modules/module.py\", line 673, in to\n",
            "    return self._apply(convert)\n",
            "  File \"/usr/local/lib/python3.7/dist-packages/torch/nn/modules/module.py\", line 387, in _apply\n",
            "    module._apply(fn)\n",
            "  File \"/usr/local/lib/python3.7/dist-packages/torch/nn/modules/module.py\", line 387, in _apply\n",
            "    module._apply(fn)\n",
            "  File \"/usr/local/lib/python3.7/dist-packages/torch/nn/modules/module.py\", line 387, in _apply\n",
            "    module._apply(fn)\n",
            "  [Previous line repeated 1 more time]\n",
            "  File \"/usr/local/lib/python3.7/dist-packages/torch/nn/modules/module.py\", line 409, in _apply\n",
            "    param_applied = fn(param)\n",
            "  File \"/usr/local/lib/python3.7/dist-packages/torch/nn/modules/module.py\", line 671, in convert\n",
            "    return t.to(device, dtype if t.is_floating_point() or t.is_complex() else None, non_blocking)\n",
            "  File \"/usr/local/lib/python3.7/dist-packages/torch/cuda/__init__.py\", line 170, in _lazy_init\n",
            "    torch._C._cuda_init()\n",
            "RuntimeError: No CUDA GPUs are available\n"
          ]
        }
      ]
    },
    {
      "cell_type": "code",
      "source": [
        ""
      ],
      "metadata": {
        "id": "CI5uQVCUNUyu"
      },
      "execution_count": null,
      "outputs": []
    },
    {
      "cell_type": "markdown",
      "source": [
        ""
      ],
      "metadata": {
        "id": "MBkHIVadSgoy"
      }
    }
  ]
}