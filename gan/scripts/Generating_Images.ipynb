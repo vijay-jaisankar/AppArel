{
  "nbformat": 4,
  "nbformat_minor": 0,
  "metadata": {
    "colab": {
      "name": "Generating-Images.ipynb",
      "provenance": []
    },
    "kernelspec": {
      "name": "python3",
      "display_name": "Python 3"
    },
    "language_info": {
      "name": "python"
    },
    "accelerator": "GPU",
    "gpuClass": "standard"
  },
  "cells": [
    {
      "cell_type": "code",
      "execution_count": 1,
      "metadata": {
        "colab": {
          "base_uri": "https://localhost:8080/"
        },
        "id": "aw5cp5pPGsBP",
        "outputId": "24090c45-9081-4da8-d154-31a41824ed3e"
      },
      "outputs": [
        {
          "output_type": "stream",
          "name": "stdout",
          "text": [
            "Mounted at /content/drive\n"
          ]
        }
      ],
      "source": [
        "from google.colab import drive\n",
        "drive.mount(\n",
        "    \"/content/drive\",\n",
        "    force_remount = True\n",
        ")"
      ]
    },
    {
      "cell_type": "code",
      "source": [
        "!pip install torch==1.8.1 torchvision==0.9.1\n",
        "!git clone https://github.com/NVlabs/stylegan2-ada-pytorch.git\n",
        "!pip install ninja"
      ],
      "metadata": {
        "colab": {
          "base_uri": "https://localhost:8080/"
        },
        "id": "_FkTts4hG5IL",
        "outputId": "c9478260-9a8b-48af-8589-166d2dcdc2cb"
      },
      "execution_count": 2,
      "outputs": [
        {
          "output_type": "stream",
          "name": "stdout",
          "text": [
            "Looking in indexes: https://pypi.org/simple, https://us-python.pkg.dev/colab-wheels/public/simple/\n",
            "Collecting torch==1.8.1\n",
            "  Downloading torch-1.8.1-cp37-cp37m-manylinux1_x86_64.whl (804.1 MB)\n",
            "\u001b[K     |████████████████████████████████| 804.1 MB 2.5 kB/s \n",
            "\u001b[?25hCollecting torchvision==0.9.1\n",
            "  Downloading torchvision-0.9.1-cp37-cp37m-manylinux1_x86_64.whl (17.4 MB)\n",
            "\u001b[K     |████████████████████████████████| 17.4 MB 865 kB/s \n",
            "\u001b[?25hRequirement already satisfied: numpy in /usr/local/lib/python3.7/dist-packages (from torch==1.8.1) (1.21.6)\n",
            "Requirement already satisfied: typing-extensions in /usr/local/lib/python3.7/dist-packages (from torch==1.8.1) (4.1.1)\n",
            "Requirement already satisfied: pillow>=4.1.1 in /usr/local/lib/python3.7/dist-packages (from torchvision==0.9.1) (7.1.2)\n",
            "Installing collected packages: torch, torchvision\n",
            "  Attempting uninstall: torch\n",
            "    Found existing installation: torch 1.12.0+cu113\n",
            "    Uninstalling torch-1.12.0+cu113:\n",
            "      Successfully uninstalled torch-1.12.0+cu113\n",
            "  Attempting uninstall: torchvision\n",
            "    Found existing installation: torchvision 0.13.0+cu113\n",
            "    Uninstalling torchvision-0.13.0+cu113:\n",
            "      Successfully uninstalled torchvision-0.13.0+cu113\n",
            "\u001b[31mERROR: pip's dependency resolver does not currently take into account all the packages that are installed. This behaviour is the source of the following dependency conflicts.\n",
            "torchtext 0.13.0 requires torch==1.12.0, but you have torch 1.8.1 which is incompatible.\n",
            "torchaudio 0.12.0+cu113 requires torch==1.12.0, but you have torch 1.8.1 which is incompatible.\u001b[0m\n",
            "Successfully installed torch-1.8.1 torchvision-0.9.1\n",
            "Cloning into 'stylegan2-ada-pytorch'...\n",
            "remote: Enumerating objects: 128, done.\u001b[K\n",
            "remote: Total 128 (delta 0), reused 0 (delta 0), pack-reused 128\u001b[K\n",
            "Receiving objects: 100% (128/128), 1.12 MiB | 4.47 MiB/s, done.\n",
            "Resolving deltas: 100% (57/57), done.\n",
            "Looking in indexes: https://pypi.org/simple, https://us-python.pkg.dev/colab-wheels/public/simple/\n",
            "Collecting ninja\n",
            "  Downloading ninja-1.10.2.3-py2.py3-none-manylinux_2_5_x86_64.manylinux1_x86_64.whl (108 kB)\n",
            "\u001b[K     |████████████████████████████████| 108 kB 9.3 MB/s \n",
            "\u001b[?25hInstalling collected packages: ninja\n",
            "Successfully installed ninja-1.10.2.3\n"
          ]
        }
      ]
    },
    {
      "cell_type": "code",
      "source": [
        "!pip install -U tb-nightly\n",
        "!pip install -U future\n",
        "%tensorflow_version 1.x"
      ],
      "metadata": {
        "colab": {
          "base_uri": "https://localhost:8080/"
        },
        "id": "HNxWhsN2G9CX",
        "outputId": "6f7da446-a4eb-4ffc-b429-61b021fe6fe5"
      },
      "execution_count": 3,
      "outputs": [
        {
          "output_type": "stream",
          "name": "stdout",
          "text": [
            "Looking in indexes: https://pypi.org/simple, https://us-python.pkg.dev/colab-wheels/public/simple/\n",
            "Collecting tb-nightly\n",
            "  Downloading tb_nightly-2.10.0a20220716-py3-none-any.whl (5.8 MB)\n",
            "\u001b[K     |████████████████████████████████| 5.8 MB 7.6 MB/s \n",
            "\u001b[?25hRequirement already satisfied: numpy>=1.12.0 in /usr/local/lib/python3.7/dist-packages (from tb-nightly) (1.21.6)\n",
            "Requirement already satisfied: setuptools>=41.0.0 in /usr/local/lib/python3.7/dist-packages (from tb-nightly) (57.4.0)\n",
            "Requirement already satisfied: protobuf<3.20,>=3.9.2 in /usr/local/lib/python3.7/dist-packages (from tb-nightly) (3.17.3)\n",
            "Requirement already satisfied: tensorboard-data-server<0.7.0,>=0.6.0 in /usr/local/lib/python3.7/dist-packages (from tb-nightly) (0.6.1)\n",
            "Requirement already satisfied: google-auth-oauthlib<0.5,>=0.4.1 in /usr/local/lib/python3.7/dist-packages (from tb-nightly) (0.4.6)\n",
            "Requirement already satisfied: requests<3,>=2.21.0 in /usr/local/lib/python3.7/dist-packages (from tb-nightly) (2.23.0)\n",
            "Requirement already satisfied: google-auth<3,>=1.6.3 in /usr/local/lib/python3.7/dist-packages (from tb-nightly) (1.35.0)\n",
            "Requirement already satisfied: grpcio>=1.24.3 in /usr/local/lib/python3.7/dist-packages (from tb-nightly) (1.47.0)\n",
            "Requirement already satisfied: werkzeug>=1.0.1 in /usr/local/lib/python3.7/dist-packages (from tb-nightly) (1.0.1)\n",
            "Requirement already satisfied: tensorboard-plugin-wit>=1.6.0 in /usr/local/lib/python3.7/dist-packages (from tb-nightly) (1.8.1)\n",
            "Requirement already satisfied: wheel>=0.26 in /usr/local/lib/python3.7/dist-packages (from tb-nightly) (0.37.1)\n",
            "Requirement already satisfied: absl-py>=0.4 in /usr/local/lib/python3.7/dist-packages (from tb-nightly) (1.1.0)\n",
            "Requirement already satisfied: markdown>=2.6.8 in /usr/local/lib/python3.7/dist-packages (from tb-nightly) (3.3.7)\n",
            "Requirement already satisfied: six>=1.9.0 in /usr/local/lib/python3.7/dist-packages (from google-auth<3,>=1.6.3->tb-nightly) (1.15.0)\n",
            "Requirement already satisfied: cachetools<5.0,>=2.0.0 in /usr/local/lib/python3.7/dist-packages (from google-auth<3,>=1.6.3->tb-nightly) (4.2.4)\n",
            "Requirement already satisfied: rsa<5,>=3.1.4 in /usr/local/lib/python3.7/dist-packages (from google-auth<3,>=1.6.3->tb-nightly) (4.8)\n",
            "Requirement already satisfied: pyasn1-modules>=0.2.1 in /usr/local/lib/python3.7/dist-packages (from google-auth<3,>=1.6.3->tb-nightly) (0.2.8)\n",
            "Requirement already satisfied: requests-oauthlib>=0.7.0 in /usr/local/lib/python3.7/dist-packages (from google-auth-oauthlib<0.5,>=0.4.1->tb-nightly) (1.3.1)\n",
            "Requirement already satisfied: importlib-metadata>=4.4 in /usr/local/lib/python3.7/dist-packages (from markdown>=2.6.8->tb-nightly) (4.12.0)\n",
            "Requirement already satisfied: typing-extensions>=3.6.4 in /usr/local/lib/python3.7/dist-packages (from importlib-metadata>=4.4->markdown>=2.6.8->tb-nightly) (4.1.1)\n",
            "Requirement already satisfied: zipp>=0.5 in /usr/local/lib/python3.7/dist-packages (from importlib-metadata>=4.4->markdown>=2.6.8->tb-nightly) (3.8.0)\n",
            "Requirement already satisfied: pyasn1<0.5.0,>=0.4.6 in /usr/local/lib/python3.7/dist-packages (from pyasn1-modules>=0.2.1->google-auth<3,>=1.6.3->tb-nightly) (0.4.8)\n",
            "Requirement already satisfied: idna<3,>=2.5 in /usr/local/lib/python3.7/dist-packages (from requests<3,>=2.21.0->tb-nightly) (2.10)\n",
            "Requirement already satisfied: urllib3!=1.25.0,!=1.25.1,<1.26,>=1.21.1 in /usr/local/lib/python3.7/dist-packages (from requests<3,>=2.21.0->tb-nightly) (1.24.3)\n",
            "Requirement already satisfied: certifi>=2017.4.17 in /usr/local/lib/python3.7/dist-packages (from requests<3,>=2.21.0->tb-nightly) (2022.6.15)\n",
            "Requirement already satisfied: chardet<4,>=3.0.2 in /usr/local/lib/python3.7/dist-packages (from requests<3,>=2.21.0->tb-nightly) (3.0.4)\n",
            "Requirement already satisfied: oauthlib>=3.0.0 in /usr/local/lib/python3.7/dist-packages (from requests-oauthlib>=0.7.0->google-auth-oauthlib<0.5,>=0.4.1->tb-nightly) (3.2.0)\n",
            "Installing collected packages: tb-nightly\n",
            "Successfully installed tb-nightly-2.10.0a20220716\n",
            "Looking in indexes: https://pypi.org/simple, https://us-python.pkg.dev/colab-wheels/public/simple/\n",
            "Requirement already satisfied: future in /usr/local/lib/python3.7/dist-packages (0.16.0)\n",
            "Collecting future\n",
            "  Downloading future-0.18.2.tar.gz (829 kB)\n",
            "\u001b[K     |████████████████████████████████| 829 kB 8.5 MB/s \n",
            "\u001b[?25hBuilding wheels for collected packages: future\n",
            "  Building wheel for future (setup.py) ... \u001b[?25l\u001b[?25hdone\n",
            "  Created wheel for future: filename=future-0.18.2-py3-none-any.whl size=491070 sha256=c362eae42860b5c760685f2a31096fe6a7a04128bb5cda17d61d8488dd2d390d\n",
            "  Stored in directory: /root/.cache/pip/wheels/56/b0/fe/4410d17b32f1f0c3cf54cdfb2bc04d7b4b8f4ae377e2229ba0\n",
            "Successfully built future\n",
            "Installing collected packages: future\n",
            "  Attempting uninstall: future\n",
            "    Found existing installation: future 0.16.0\n",
            "    Uninstalling future-0.16.0:\n",
            "      Successfully uninstalled future-0.16.0\n",
            "Successfully installed future-0.18.2\n",
            "WARNING: Tensorflow 1 is deprecated, and support will be removed on August 1, 2022.\n",
            "After that, `%tensorflow_version 1.x` will throw an error.\n",
            "\n",
            "Your notebook should be updated to use Tensorflow 2.\n",
            "See the guide at https://www.tensorflow.org/guide/migrate#migrate-from-tensorflow-1x-to-tensorflow-2.\n",
            "\n",
            "TensorFlow 1.x selected.\n"
          ]
        }
      ]
    },
    {
      "cell_type": "code",
      "source": [
        "import numpy as np\n",
        "np.array(list(range(26,100)))"
      ],
      "metadata": {
        "colab": {
          "base_uri": "https://localhost:8080/"
        },
        "id": "yla5fqYiH6ns",
        "outputId": "554cc880-31c8-44a9-ec50-29a83c6c8dc3"
      },
      "execution_count": 6,
      "outputs": [
        {
          "output_type": "execute_result",
          "data": {
            "text/plain": [
              "array([26, 27, 28, 29, 30, 31, 32, 33, 34, 35, 36, 37, 38, 39, 40, 41, 42,\n",
              "       43, 44, 45, 46, 47, 48, 49, 50, 51, 52, 53, 54, 55, 56, 57, 58, 59,\n",
              "       60, 61, 62, 63, 64, 65, 66, 67, 68, 69, 70, 71, 72, 73, 74, 75, 76,\n",
              "       77, 78, 79, 80, 81, 82, 83, 84, 85, 86, 87, 88, 89, 90, 91, 92, 93,\n",
              "       94, 95, 96, 97, 98, 99])"
            ]
          },
          "metadata": {},
          "execution_count": 6
        }
      ]
    },
    {
      "cell_type": "code",
      "source": [
        "s = \"/usr/bin/python3 /content/stylegan2-ada-pytorch/generate.py --outdir=/content/drive/MyDrive/GAN/Pants-Gen --trunc=1 --seeds=26,27,28,29,30,31,32,33,34,35,36,37,38,39,40,41,42,43,44,45,46,47,48,49,50,51,52,53,54,55,56,57,58,59,60,61,62,63,64,65,66,67,68,69,70,71,72,73,74,75,76,77,78,79,80,81,82,83,84,85,86,87,88,89,90,91,92,93,94,95,96,97,98,99 \\\n",
        "    --network=/content/drive/MyDrive/GAN/network-snapshot-000192.pkl\"\n",
        "\n",
        "!{s}"
      ],
      "metadata": {
        "colab": {
          "base_uri": "https://localhost:8080/"
        },
        "id": "cPPvVxBPHOsJ",
        "outputId": "e93bc393-2ec5-488d-c14c-6d890c4e11d7"
      },
      "execution_count": 8,
      "outputs": [
        {
          "output_type": "stream",
          "name": "stdout",
          "text": [
            "Loading networks from \"/content/drive/MyDrive/GAN/network-snapshot-000192.pkl\"...\n",
            "Generating image for seed 26 (0/74) ...\n",
            "Setting up PyTorch plugin \"bias_act_plugin\"... Done.\n",
            "Setting up PyTorch plugin \"upfirdn2d_plugin\"... Done.\n",
            "Generating image for seed 27 (1/74) ...\n",
            "Generating image for seed 28 (2/74) ...\n",
            "Generating image for seed 29 (3/74) ...\n",
            "Generating image for seed 30 (4/74) ...\n",
            "Generating image for seed 31 (5/74) ...\n",
            "Generating image for seed 32 (6/74) ...\n",
            "Generating image for seed 33 (7/74) ...\n",
            "Generating image for seed 34 (8/74) ...\n",
            "Generating image for seed 35 (9/74) ...\n",
            "Generating image for seed 36 (10/74) ...\n",
            "Generating image for seed 37 (11/74) ...\n",
            "Generating image for seed 38 (12/74) ...\n",
            "Generating image for seed 39 (13/74) ...\n",
            "Generating image for seed 40 (14/74) ...\n",
            "Generating image for seed 41 (15/74) ...\n",
            "Generating image for seed 42 (16/74) ...\n",
            "Generating image for seed 43 (17/74) ...\n",
            "Generating image for seed 44 (18/74) ...\n",
            "Generating image for seed 45 (19/74) ...\n",
            "Generating image for seed 46 (20/74) ...\n",
            "Generating image for seed 47 (21/74) ...\n",
            "Generating image for seed 48 (22/74) ...\n",
            "Generating image for seed 49 (23/74) ...\n",
            "Generating image for seed 50 (24/74) ...\n",
            "Generating image for seed 51 (25/74) ...\n",
            "Generating image for seed 52 (26/74) ...\n",
            "Generating image for seed 53 (27/74) ...\n",
            "Generating image for seed 54 (28/74) ...\n",
            "Generating image for seed 55 (29/74) ...\n",
            "Generating image for seed 56 (30/74) ...\n",
            "Generating image for seed 57 (31/74) ...\n",
            "Generating image for seed 58 (32/74) ...\n",
            "Generating image for seed 59 (33/74) ...\n",
            "Generating image for seed 60 (34/74) ...\n",
            "Generating image for seed 61 (35/74) ...\n",
            "Generating image for seed 62 (36/74) ...\n",
            "Generating image for seed 63 (37/74) ...\n",
            "Generating image for seed 64 (38/74) ...\n",
            "Generating image for seed 65 (39/74) ...\n",
            "Generating image for seed 66 (40/74) ...\n",
            "Generating image for seed 67 (41/74) ...\n",
            "Generating image for seed 68 (42/74) ...\n",
            "Generating image for seed 69 (43/74) ...\n",
            "Generating image for seed 70 (44/74) ...\n",
            "Generating image for seed 71 (45/74) ...\n",
            "Generating image for seed 72 (46/74) ...\n",
            "Generating image for seed 73 (47/74) ...\n",
            "Generating image for seed 74 (48/74) ...\n",
            "Generating image for seed 75 (49/74) ...\n",
            "Generating image for seed 76 (50/74) ...\n",
            "Generating image for seed 77 (51/74) ...\n",
            "Generating image for seed 78 (52/74) ...\n",
            "Generating image for seed 79 (53/74) ...\n",
            "Generating image for seed 80 (54/74) ...\n",
            "Generating image for seed 81 (55/74) ...\n",
            "Generating image for seed 82 (56/74) ...\n",
            "Generating image for seed 83 (57/74) ...\n",
            "Generating image for seed 84 (58/74) ...\n",
            "Generating image for seed 85 (59/74) ...\n",
            "Generating image for seed 86 (60/74) ...\n",
            "Generating image for seed 87 (61/74) ...\n",
            "Generating image for seed 88 (62/74) ...\n",
            "Generating image for seed 89 (63/74) ...\n",
            "Generating image for seed 90 (64/74) ...\n",
            "Generating image for seed 91 (65/74) ...\n",
            "Generating image for seed 92 (66/74) ...\n",
            "Generating image for seed 93 (67/74) ...\n",
            "Generating image for seed 94 (68/74) ...\n",
            "Generating image for seed 95 (69/74) ...\n",
            "Generating image for seed 96 (70/74) ...\n",
            "Generating image for seed 97 (71/74) ...\n",
            "Generating image for seed 98 (72/74) ...\n",
            "Generating image for seed 99 (73/74) ...\n"
          ]
        }
      ]
    },
    {
      "cell_type": "code",
      "source": [
        "t = \"/usr/bin/python3 /content/stylegan2-ada-pytorch/generate.py --outdir=/content/drive/MyDrive/GAN/Shirts-Gen --trunc=1 --seeds=1,2,3,4,5,6,7,8,9,10,11,12,13,14,15,16,17,18,19,20,21,22,23,24,25,26,27,28,29,30,31,32,33,34,35,36,37,38,39,40,41,42,43,44,45,46,47,48,49,50,51,52,53,54,55,56,57,58,59,60,61,62,63,64,65,66,67,68,69,70,71,72,73,74,75,76,77,78,79,80,81,82,83,84,85,86,87,88,89,90,91,92,93,94,95,96,97,98,99 \\\n",
        "    --network=/content/drive/MyDrive/GAN/network-snapshot-000096.pkl\"\n",
        "\n",
        "!{t}"
      ],
      "metadata": {
        "colab": {
          "base_uri": "https://localhost:8080/"
        },
        "id": "MOEba_v-Hk0u",
        "outputId": "d5c5abf8-5496-428b-f1d1-459933f2a848"
      },
      "execution_count": 9,
      "outputs": [
        {
          "output_type": "stream",
          "name": "stdout",
          "text": [
            "Loading networks from \"/content/drive/MyDrive/GAN/network-snapshot-000096.pkl\"...\n",
            "Generating image for seed 1 (0/99) ...\n",
            "Setting up PyTorch plugin \"bias_act_plugin\"... Done.\n",
            "Setting up PyTorch plugin \"upfirdn2d_plugin\"... Done.\n",
            "Generating image for seed 2 (1/99) ...\n",
            "Generating image for seed 3 (2/99) ...\n",
            "Generating image for seed 4 (3/99) ...\n",
            "Generating image for seed 5 (4/99) ...\n",
            "Generating image for seed 6 (5/99) ...\n",
            "Generating image for seed 7 (6/99) ...\n",
            "Generating image for seed 8 (7/99) ...\n",
            "Generating image for seed 9 (8/99) ...\n",
            "Generating image for seed 10 (9/99) ...\n",
            "Generating image for seed 11 (10/99) ...\n",
            "Generating image for seed 12 (11/99) ...\n",
            "Generating image for seed 13 (12/99) ...\n",
            "Generating image for seed 14 (13/99) ...\n",
            "Generating image for seed 15 (14/99) ...\n",
            "Generating image for seed 16 (15/99) ...\n",
            "Generating image for seed 17 (16/99) ...\n",
            "Generating image for seed 18 (17/99) ...\n",
            "Generating image for seed 19 (18/99) ...\n",
            "Generating image for seed 20 (19/99) ...\n",
            "Generating image for seed 21 (20/99) ...\n",
            "Generating image for seed 22 (21/99) ...\n",
            "Generating image for seed 23 (22/99) ...\n",
            "Generating image for seed 24 (23/99) ...\n",
            "Generating image for seed 25 (24/99) ...\n",
            "Generating image for seed 26 (25/99) ...\n",
            "Generating image for seed 27 (26/99) ...\n",
            "Generating image for seed 28 (27/99) ...\n",
            "Generating image for seed 29 (28/99) ...\n",
            "Generating image for seed 30 (29/99) ...\n",
            "Generating image for seed 31 (30/99) ...\n",
            "Generating image for seed 32 (31/99) ...\n",
            "Generating image for seed 33 (32/99) ...\n",
            "Generating image for seed 34 (33/99) ...\n",
            "Generating image for seed 35 (34/99) ...\n",
            "Generating image for seed 36 (35/99) ...\n",
            "Generating image for seed 37 (36/99) ...\n",
            "Generating image for seed 38 (37/99) ...\n",
            "Generating image for seed 39 (38/99) ...\n",
            "Generating image for seed 40 (39/99) ...\n",
            "Generating image for seed 41 (40/99) ...\n",
            "Generating image for seed 42 (41/99) ...\n",
            "Generating image for seed 43 (42/99) ...\n",
            "Generating image for seed 44 (43/99) ...\n",
            "Generating image for seed 45 (44/99) ...\n",
            "Generating image for seed 46 (45/99) ...\n",
            "Generating image for seed 47 (46/99) ...\n",
            "Generating image for seed 48 (47/99) ...\n",
            "Generating image for seed 49 (48/99) ...\n",
            "Generating image for seed 50 (49/99) ...\n",
            "Generating image for seed 51 (50/99) ...\n",
            "Generating image for seed 52 (51/99) ...\n",
            "Generating image for seed 53 (52/99) ...\n",
            "Generating image for seed 54 (53/99) ...\n",
            "Generating image for seed 55 (54/99) ...\n",
            "Generating image for seed 56 (55/99) ...\n",
            "Generating image for seed 57 (56/99) ...\n",
            "Generating image for seed 58 (57/99) ...\n",
            "Generating image for seed 59 (58/99) ...\n",
            "Generating image for seed 60 (59/99) ...\n",
            "Generating image for seed 61 (60/99) ...\n",
            "Generating image for seed 62 (61/99) ...\n",
            "Generating image for seed 63 (62/99) ...\n",
            "Generating image for seed 64 (63/99) ...\n",
            "Generating image for seed 65 (64/99) ...\n",
            "Generating image for seed 66 (65/99) ...\n",
            "Generating image for seed 67 (66/99) ...\n",
            "Generating image for seed 68 (67/99) ...\n",
            "Generating image for seed 69 (68/99) ...\n",
            "Generating image for seed 70 (69/99) ...\n",
            "Generating image for seed 71 (70/99) ...\n",
            "Generating image for seed 72 (71/99) ...\n",
            "Generating image for seed 73 (72/99) ...\n",
            "Generating image for seed 74 (73/99) ...\n",
            "Generating image for seed 75 (74/99) ...\n",
            "Generating image for seed 76 (75/99) ...\n",
            "Generating image for seed 77 (76/99) ...\n",
            "Generating image for seed 78 (77/99) ...\n",
            "Generating image for seed 79 (78/99) ...\n",
            "Generating image for seed 80 (79/99) ...\n",
            "Generating image for seed 81 (80/99) ...\n",
            "Generating image for seed 82 (81/99) ...\n",
            "Generating image for seed 83 (82/99) ...\n",
            "Generating image for seed 84 (83/99) ...\n",
            "Generating image for seed 85 (84/99) ...\n",
            "Generating image for seed 86 (85/99) ...\n",
            "Generating image for seed 87 (86/99) ...\n",
            "Generating image for seed 88 (87/99) ...\n",
            "Generating image for seed 89 (88/99) ...\n",
            "Generating image for seed 90 (89/99) ...\n",
            "Generating image for seed 91 (90/99) ...\n",
            "Generating image for seed 92 (91/99) ...\n",
            "Generating image for seed 93 (92/99) ...\n",
            "Generating image for seed 94 (93/99) ...\n",
            "Generating image for seed 95 (94/99) ...\n",
            "Generating image for seed 96 (95/99) ...\n",
            "Generating image for seed 97 (96/99) ...\n",
            "Generating image for seed 98 (97/99) ...\n",
            "Generating image for seed 99 (98/99) ...\n"
          ]
        }
      ]
    },
    {
      "cell_type": "code",
      "source": [
        ""
      ],
      "metadata": {
        "id": "lPA3DTv8L4DT"
      },
      "execution_count": null,
      "outputs": []
    }
  ]
}